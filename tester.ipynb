{
 "cells": [
  {
   "cell_type": "code",
   "execution_count": null,
   "metadata": {},
   "outputs": [],
   "source": []
  },
  {
   "cell_type": "code",
   "execution_count": null,
   "metadata": {},
   "outputs": [],
   "source": []
  },
  {
   "cell_type": "code",
   "execution_count": null,
   "metadata": {},
   "outputs": [],
   "source": []
  },
  {
   "cell_type": "code",
   "execution_count": null,
   "metadata": {},
   "outputs": [],
   "source": []
  },
  {
   "cell_type": "code",
   "execution_count": null,
   "metadata": {},
   "outputs": [],
   "source": []
  },
  {
   "cell_type": "code",
   "execution_count": null,
   "metadata": {},
   "outputs": [],
   "source": []
  },
  {
   "cell_type": "code",
   "execution_count": 17,
   "metadata": {},
   "outputs": [
    {
     "name": "stderr",
     "output_type": "stream",
     "text": [
      "/Users/minty/miniconda3/envs/inkbloom/lib/python3.12/site-packages/ebooklib/epub.py:1395: UserWarning: In the future version we will turn default option ignore_ncx to True.\n",
      "  warnings.warn('In the future version we will turn default option ignore_ncx to True.')\n",
      "/Users/minty/miniconda3/envs/inkbloom/lib/python3.12/site-packages/ebooklib/epub.py:1423: FutureWarning: This search incorrectly ignores the root element, and will be fixed in a future version.  If you rely on the current behaviour, change it to './/xmlns:rootfile[@media-type]'\n",
      "  for root_file in tree.findall('//xmlns:rootfile[@media-type]', namespaces={'xmlns': NAMESPACES['CONTAINERNS']}):\n"
     ]
    }
   ],
   "source": [
    "import ebooklib\n",
    "from ebooklib import epub\n",
    "\n",
    "# book = epub.read_epub('Grimm\\'s Fairy Tales.epub')\n",
    "book = epub.read_epub('The Iliad of Homer.epub')\n",
    "\n",
    "for image in book.get_items_of_type(ebooklib.ITEM_IMAGE):\n",
    "    print(image)"
   ]
  },
  {
   "cell_type": "code",
   "execution_count": 23,
   "metadata": {},
   "outputs": [
    {
     "ename": "AttributeError",
     "evalue": "'EpubBook' object has no attribute 'get_body_content'",
     "output_type": "error",
     "traceback": [
      "\u001b[0;31m---------------------------------------------------------------------------\u001b[0m",
      "\u001b[0;31mAttributeError\u001b[0m                            Traceback (most recent call last)",
      "Cell \u001b[0;32mIn[23], line 1\u001b[0m\n\u001b[0;32m----> 1\u001b[0m \u001b[43mbook\u001b[49m\u001b[38;5;241;43m.\u001b[39;49m\u001b[43mget_body_content\u001b[49m()\n",
      "\u001b[0;31mAttributeError\u001b[0m: 'EpubBook' object has no attribute 'get_body_content'"
     ]
    }
   ],
   "source": [
    "book.get_body_content()"
   ]
  },
  {
   "cell_type": "code",
   "execution_count": 45,
   "metadata": {},
   "outputs": [
    {
     "data": {
      "text/plain": [
       "'Of all books extant in all kinds, Homer is the first and best. No one\\nbefore his, Josephus affirms; nor before him, saith Velleius\\nPaterculus, was there any whom he imitated, nor after him any that\\ncould imitate him. And that Poesy may be no cause of detraction from\\nall the eminence we give him, Spondanus (preferring it to all arts\\nand sciences) unanswerably argues and proves; for to the glory of\\nGod, and the singing of his glories, no man dares deny, man was\\nchiefly made. And what art performs this chief end of man with so\\nmuch excitation and expression as Poesy; Moses, David, Solomon, Job,\\nEsay, Jeremy, etc. chiefly using that to the end abovesaid? And since\\nthe excellence of it cannot be obtained by the labour and art of man,\\nas all easily confess it, it must needs be acknowledged a Divine\\ninfusion. To prove which in a word, this distich, in my estimation,\\nserves something nearly:\\nGreat Poesy, blind Homer, makes all see\\nThee capable of all arts, none of thee.\\n\\nFor out of him, according to our most grave and judicial Plutarch, are all Arts\\ndeduced, confirmed, or illustrated. It is not therefore the world’s\\nvilifying of it that can make it vile; for so we might argue, and blaspheme the\\nmost incomparably sacred. It is not of the world indeed, but, like truth, hides\\nitself from it. Nor is there any such reality of wisdom’s truth in all\\nhuman excellence, as in Poets’ fictions. That most vulgar and foolish\\nreceipt of poetical licence being of all knowing men to be exploded, accepting\\nit, as if Poets had a tale-telling privilege above others, no Artist being so\\nstrictly and inextricably confined to all the laws of learning, wisdom, and\\ntruth, as a Poet. For were not his fictions composed of the sinews and souls of\\nall those, how could they defy fire, iron, and be combined with eternity? To\\nall sciences therefore, I must still, with our learned and ingenious Spondanus,\\nrefer it, as having a perpetual commerce with the Divine Majesty, embracing and\\nillustrating all His most holy precepts, and enjoying continual discourse with\\nHis thrice perfect and most comfortable Spirit. And as the contemplative life\\nis most worthily and divinely preferred by Plato to the active, as much as the\\nhead to the foot, the eye to the hand, reason to sense, the soul to the body,\\nthe end itself to all things directed to the end, quiet to motion, and eternity\\nto time; so much prefer I divine Poesy to all worldly wisdom. To the only\\nshadow of whose worth, yet, I entitle not the bold rhymes of every apish and\\nimpudent braggart, though he dares assume anything; such I turn over to the\\nweaving of cobwebs, and shall but chatter on molehills (far under the hill of\\nthe Muses) when their fortunatest self-love and ambition hath advanced them\\nhighest. Poesy is the flower of the Sun, and disdains to open to the eye of a\\ncandle. So kings hide their treasures and counsels from the vulgar, ne\\nevilescant (saith our Spond.). We have example sacred enough, that true\\nPoesy’s humility, poverty, and contempt, are badges of divinity, not\\nvanity. Bray then, and bark against it, ye wolf-faced worldlings, that nothing\\nbut honours, riches, and magistracy, nescio quos turgidè spiratis (that\\nI may use the words of our friend still) qui solas leges Justinianas\\ncrepatis; paragraphum unum aut alterum, pluris quàm vos ipsos facitis, etc.\\nI (for my part) shall ever esteem it much more manly and sacred, in this\\nharmless and pious study, to sit till I sink into my grave, than shine in your\\nvainglorious bubbles and impieties; all your poor policies, wisdoms, and their\\ntrappings, at no more valuing than a musty nut. And much less I weigh the\\nfrontless detractions of some stupid ignorants, that, no more knowing me than\\ntheir own beastly ends, and I ever (to my knowledge) blest from their sight,\\nwhisper behind me vilifyings of my translation, out of the French affirming\\nthem, when both in French, and all other languages but his own, our\\nwith-all-skill-enriched Poet is so poor and unpleasing that no man can discern\\nfrom whence flowed his so generally given eminence and admiration. And\\ntherefore (by any reasonable creature’s conference of my slight comment\\nand conversion) it will easily appear how I shun them, and whether the original\\nbe my rule or not. In which he shall easily see, I understand the\\nunderstandings of all other interpreters and commentors in places of his most\\ndepth, importance, and rapture. In whose exposition and illustration, if I\\nabhor from the sense that others wrest and wrack out of him, let my best\\ndetractor examine how the Greek word warrants me. For my other fresh fry, let\\nthem fry in their foolish galls, nothing so much weighed as the barkings of the\\npuppies, or foisting hounds, too vile to think of our sacred Homer, or set\\ntheir profane feet within their lives’ length of his thresholds. If I\\nfail in something, let my full performance in other some restore me; haste\\nspurring me on with other necessities. For as at my conclusion I protest, so\\nhere at my entrance, less than fifteen weeks was the time in which all the last\\ntwelve books were entirely new translated. No conference had with anyone living\\nin all the novelties I presume I have found. Only some one or two places I have\\nshowed to my worthy and most learned friend, M. Harriots, for his censure how\\nmuch mine own weighed; whose judgment and knowledge in all kinds, I know to be\\nincomparable and bottomless, yea, to be admired as much, as his most blameless\\nlife, and the right sacred expense of his time, is to be honoured and\\nreverenced. Which affirmation of his clear unmatchedness in all manner of\\nlearning I make in contempt of that nasty objection often thrust upon me,—that\\nhe that will judge must know more than he of whom he judgeth; for so a man\\nshould know neither God nor himself. Another right learned, honest, and\\nentirely loved friend of mine, M. Robert Hews, I must needs put into my\\nconfess’d conference touching Homer, though very little more than that I\\nhad with M. Harriots. Which two, I protest, are all, and preferred to all. Nor\\ncharge I their authorities with, any allowance of my general labour, but only\\nof those one or two places, which for instances of my innovation, and how it\\nshowed to them, I imparted. If any tax me for too much periphrasis or\\ncircumlocution in some places, let them read Laurentius Valla, and Eobanus\\nHessus, who either use such shortness as cometh nothing home to Homer, or,\\nwhere they shun that fault, are ten parts more paraphrastical than I. As for\\nexample, one place I will trouble you (if you please) to confer with the\\noriginal, and one interpreter for all. It is in the end of the third book, and\\nis Helen’s speech to Venus fetching her to Paris from seeing his cowardly\\ncombat with Menelaus; part of which speech I will here cite:\\n\\nΟὕνεκα δὴ νυ̑ν δι̑ον ᾽Αλέξανδρον Μενέλαος\\nΝικήσας, &c.\\nFor avoiding the common reader’s trouble here, I must refer the more\\nGreekish to the rest of the speech in Homer, whose translation ad\\nverbum by Spondanus I will here cite, and then pray you to confer it\\nwith that which followeth of Valla.Quoniam verò nunc Alexandrum Menelaus\\nPostquam vicit, vult odiosam me domum abducere,\\nPropterea verò nunc dolum (seu dolos) cogitans advenisti?\\nSede apud ipsum vadens, deorum abnega vias,\\nNeque unquam tuis pedibus revertaris in cœlum,\\nSed semper circa eum ærumnas perfer, et ipsum serva\\nDonec te vel uxorem faciat, vel hic servam, etc.\\n\\nValla thus:\\nQuoniam victo Paride, Menelaus me miseram est reportaturus ad lares, ideo\\ntu, ideo falsâ sub imagine venisti, ut me deciperes ob tuam nimiam in Paridem\\nbenevolentiam: eò dum illi ades, dum illi studes, dum pro illo satagis, dum\\nillum observas atque custodis, deorum commercium reliquisti, nec ad eos\\nreversura es ampliùs: adeò (quantum suspicor) aut uxor ejus efficieris, aut\\nancilla, &c.\\nWherein note if there be any such thing as most of this in Homer; yet\\nonly to express, as he thinks, Homer’s conceit, for the more pleasure\\nof the reader, he useth this overplus, dum illi ades, dum illi\\nstudes, dum pro illo satagis, dum ilium observas, atque custodis,\\ndeorum commercium reliquisti. Which (besides his superfluity) is\\nutterly false. For where he saith reliquisti deorum commercium,\\nHelen saith, θεω̑ν δ᾽ἀπόειπε κελεύθους, deorum auten abnega or\\nabnue, vias, ἀπείπειν (vel ἀποείπειν as it is used poetically)\\nsignifying denegare or aonuere; and Helen (in contempt of her too\\nmuch observing men) bids her renounce heaven, and come live with\\nParis till he make her his wife or servant; scoptically or scornfully\\nspeaking it; which both Valla, Eobanus, and all other interpreters\\n(but these ad verbum) have utterly missed. And this one example I\\nthought necessary to insert here, to show my detractors that they\\nhave no reason to vilify my circumlocution sometimes, when their most\\napproved Grecians, Homer’s interpreters generally, hold him fit to be\\nso converted. Yet how much I differ, and with what authority, let my\\nimpartial and judicial reader judge. Always conceiving how pedantical\\nand absurd an affectation it is in the interpretation of any author\\n(much more of Homer) to turn him word for word, when according to\\nHorace and other best lawgivers to translators) it is the part of\\nevery knowing and judicial interpreter, not to follow the number and\\norder of words, but the material things themselves, and sentences to\\nweigh diligently, and to clothe and adorn them with words, and such a\\nstyle and form of oration, as are most apt for the language in which\\nthey are converted. If I have not turned him ill any place falsely\\n(as all other his interpreters have in many, and most of his chief\\nplaces) if I have not left behind me any of his sentences, elegancy,\\nheight, intention, and invention, if in some few places (especially\\nin my first edition, being done so long since, and following the\\ncommon tract) I be something paraphrastical and faulty, is it justice\\nin that poor fault (if they will needs have it so) to drown all the\\nrest of my labour? But there is a certain envious windsucker, that\\nhovers up and down, laboriously engrossing all the air with his\\nluxurious ambition, and buzzing into every ear my detraction,\\naffirming I turn Homer out of the Latin only, etc. that sets all his\\nassociates, and the whole rabble of my maligners on their wings with\\nhim, to bear about my impair, and poison my reputation. One that, as\\nhe thinks, whatsoever he gives to others, he takes from himself; so\\nwhatsoever he takes from others, he adds to himself. One that in this\\nkind of robbery doth like Mercury, that stole good and supplied it\\nwith counterfeit bad still. One like the two gluttons, Philoxenus and\\nGnatho, that would still empty their noses in the dishes they loved,\\nthat no man might eat but themselves. For so this castrill, with too\\nhot a liver, and lust after his own glory, and to devour all himself,\\ndiscourageth all appetites to the fame of another. I have stricken,\\nsingle him as you can. Nor note I this, to cast any rubs or plashes\\nout of the particular way of mine own estimation with the world; for\\nI resolve this with the wilfully obscure:\\nSine honore vivam, nulloque numero ero.\\nWithout men’s honours I will live, and make\\nNo number in the manless course they take.\\n\\nBut, to discourage (if it might be) the general detraction of\\nindustrious and well-meaning virtue, I know I cannot too much\\ndiminish and deject myself; yet that passing little that I am, God\\nonly knows, to Whose ever-implored respect and comfort I only submit\\nme. If any further edition of these my silly endeavours shall chance,\\nI will mend what is amiss (God assisting me) and amplify my harsh\\nComment to Homer’s far more right, and mine own earnest and ingenious\\nlove of him. Notwithstanding, I know, the curious and envious will\\nnever sit down satisfied. A man may go over and over, till he come\\nover and over, and his pains be only his recompense, every man is so\\nloaded with his particular head, and nothing in all respects perfect,\\nbut what is perceived by few. Homer himself hath met with my fortune,\\nin many maligners; and therefore may my poor self put up without\\nmotion. And so little I will respect malignity, and so much encourage\\nmyself with mine own known strength, and what I find within me of\\ncomfort and confirmance (examining myself throughout with a far more\\njealous and severe eye than my greatest enemy, imitating this:\\nJudex ipse sui totum se explorat ad unguem, &c.)\\n\\nthat after these Iliads, I will (God lending me life and any meanest\\nmeans) with more labour than I have lost here, and all unchecked\\nalacrity, dive through his Odysseys. Nor can I forget here (but with\\nall hearty gratitude remember) my most ancient, learned, and right\\nnoble friend, M. Richard Stapilton, first most desertful mover in the\\nframe of our Homer. For which (and much other most ingenious and\\nutterly undeserved desert) God make me amply his requiter; and be his\\nhonourable family’s speedy and full restorer. In the mean space, I\\nentreat my impartial and judicial Reader, that all things to the\\nquick he will not pare, but humanely and nobly pardon defects, and,\\nif he find anything perfect, receive it unenvied.'"
      ]
     },
     "execution_count": 45,
     "metadata": {},
     "output_type": "execute_result"
    }
   ],
   "source": [
    "book_items = [x for x in book.get_items()]\n",
    "book_items[6].get_body_content()\n",
    "\n",
    "text = chapter_to_str(book_items[7])\n",
    "text"
   ]
  },
  {
   "cell_type": "code",
   "execution_count": 47,
   "metadata": {},
   "outputs": [
    {
     "data": {
      "text/plain": [
       "True"
      ]
     },
     "execution_count": 47,
     "metadata": {},
     "output_type": "execute_result"
    }
   ],
   "source": [
    "book_items[7].is_chapter()"
   ]
  },
  {
   "cell_type": "code",
   "execution_count": 46,
   "metadata": {},
   "outputs": [
    {
     "data": {
      "text/plain": [
       "38"
      ]
     },
     "execution_count": 46,
     "metadata": {},
     "output_type": "execute_result"
    }
   ],
   "source": [
    "len(book_items)"
   ]
  },
  {
   "cell_type": "code",
   "execution_count": null,
   "metadata": {},
   "outputs": [],
   "source": []
  },
  {
   "cell_type": "code",
   "execution_count": null,
   "metadata": {},
   "outputs": [],
   "source": []
  },
  {
   "cell_type": "code",
   "execution_count": 21,
   "metadata": {},
   "outputs": [
    {
     "ename": "NameError",
     "evalue": "name 'chapters' is not defined",
     "output_type": "error",
     "traceback": [
      "\u001b[0;31m---------------------------------------------------------------------------\u001b[0m",
      "\u001b[0;31mNameError\u001b[0m                                 Traceback (most recent call last)",
      "Cell \u001b[0;32mIn[21], line 7\u001b[0m\n\u001b[1;32m      5\u001b[0m     \u001b[38;5;28;01mreturn\u001b[39;00m \u001b[38;5;124m'\u001b[39m\u001b[38;5;124m'\u001b[39m \u001b[38;5;124m'\u001b[39m\u001b[38;5;124m'\u001b[39m\u001b[38;5;241m.\u001b[39mjoin(text)\n\u001b[1;32m      6\u001b[0m texts \u001b[38;5;241m=\u001b[39m {}\n\u001b[0;32m----> 7\u001b[0m \u001b[38;5;28;01mfor\u001b[39;00m c \u001b[38;5;129;01min\u001b[39;00m \u001b[43mchapters\u001b[49m:\n\u001b[1;32m      8\u001b[0m     texts[c\u001b[38;5;241m.\u001b[39mget_name()] \u001b[38;5;241m=\u001b[39m chapter_to_str(c)\n",
      "\u001b[0;31mNameError\u001b[0m: name 'chapters' is not defined"
     ]
    }
   ],
   "source": [
    "from bs4 import BeautifulSoup\n",
    "def chapter_to_str(chapter):\n",
    "    soup = BeautifulSoup(chapter.get_body_content(), 'html.parser')\n",
    "    text = [para.get_text() for para in soup.find_all('p')]\n",
    "    return '' ''.join(text)\n",
    "texts = {}\n",
    "# for c in chapters:\n",
    "#     texts[c.get_name()] = chapter_to_str(c)"
   ]
  },
  {
   "cell_type": "code",
   "execution_count": 5,
   "metadata": {},
   "outputs": [
    {
     "data": {
      "text/plain": [
       "<ebooklib.epub.EpubBook at 0x1068f9790>"
      ]
     },
     "execution_count": 5,
     "metadata": {},
     "output_type": "execute_result"
    }
   ],
   "source": [
    "book"
   ]
  },
  {
   "cell_type": "code",
   "execution_count": 13,
   "metadata": {},
   "outputs": [],
   "source": [
    "cover_image = book.get_item_with_id('cover-image')\n",
    "\n"
   ]
  },
  {
   "cell_type": "code",
   "execution_count": 14,
   "metadata": {},
   "outputs": [],
   "source": [
    "cover_image"
   ]
  },
  {
   "cell_type": "code",
   "execution_count": 8,
   "metadata": {},
   "outputs": [
    {
     "data": {
      "text/plain": [
       "[('Jacob Grimm', {'id': 'author_0'}), ('Wilhelm Grimm', {'id': 'author_1'})]"
      ]
     },
     "execution_count": 8,
     "metadata": {},
     "output_type": "execute_result"
    }
   ],
   "source": [
    "book.get_metadata('DC', 'creator')"
   ]
  },
  {
   "cell_type": "code",
   "execution_count": 16,
   "metadata": {},
   "outputs": [
    {
     "name": "stdout",
     "output_type": "stream",
     "text": [
      "[<ebooklib.epub.EpubCover object at 0x1069070b0>, <ebooklib.epub.EpubItem object at 0x1068fa1e0>, <ebooklib.epub.EpubItem object at 0x1065d9880>, <ebooklib.epub.EpubItem object at 0x106620d40>, <ebooklib.epub.EpubHtml object at 0x1069079e0>, <ebooklib.epub.EpubHtml object at 0x106906e70>, <ebooklib.epub.EpubHtml object at 0x106906f00>, <ebooklib.epub.EpubHtml object at 0x106906060>, <ebooklib.epub.EpubHtml object at 0x106906420>, <ebooklib.epub.EpubHtml object at 0x106907650>, <ebooklib.epub.EpubHtml object at 0x1069057f0>, <ebooklib.epub.EpubHtml object at 0x1068e3c20>, <ebooklib.epub.EpubHtml object at 0x1068e3d10>, <ebooklib.epub.EpubHtml object at 0x1068e3dd0>, <ebooklib.epub.EpubHtml object at 0x1068e3ef0>, <ebooklib.epub.EpubHtml object at 0x1068e3f50>, <ebooklib.epub.EpubHtml object at 0x1068e3ce0>, <ebooklib.epub.EpubHtml object at 0x1068e3f20>, <ebooklib.epub.EpubHtml object at 0x1068e3ec0>, <ebooklib.epub.EpubHtml object at 0x1068f2270>, <ebooklib.epub.EpubHtml object at 0x1068f2d80>, <ebooklib.epub.EpubHtml object at 0x1068f3140>, <ebooklib.epub.EpubHtml object at 0x1068f3110>, <ebooklib.epub.EpubHtml object at 0x1068f2870>, <ebooklib.epub.EpubHtml object at 0x1068f2ed0>, <ebooklib.epub.EpubHtml object at 0x1068f3650>, <ebooklib.epub.EpubHtml object at 0x1068f2e10>, <ebooklib.epub.EpubHtml object at 0x1068f3080>, <ebooklib.epub.EpubHtml object at 0x1068f2a50>, <ebooklib.epub.EpubHtml object at 0x1068f2570>, <ebooklib.epub.EpubHtml object at 0x1068f3680>, <ebooklib.epub.EpubHtml object at 0x1068f2f30>, <ebooklib.epub.EpubHtml object at 0x1068f3d40>, <ebooklib.epub.EpubHtml object at 0x1068f3aa0>, <ebooklib.epub.EpubHtml object at 0x1068f3470>, <ebooklib.epub.EpubNav object at 0x1068f2b70>, <ebooklib.epub.EpubNcx object at 0x1068f2930>, <ebooklib.epub.EpubHtml object at 0x1068f3b90>]\n"
     ]
    }
   ],
   "source": [
    "print([x for x in book.get_items()])"
   ]
  }
 ],
 "metadata": {
  "kernelspec": {
   "display_name": "inkbloom",
   "language": "python",
   "name": "python3"
  },
  "language_info": {
   "codemirror_mode": {
    "name": "ipython",
    "version": 3
   },
   "file_extension": ".py",
   "mimetype": "text/x-python",
   "name": "python",
   "nbconvert_exporter": "python",
   "pygments_lexer": "ipython3",
   "version": "3.12.7"
  }
 },
 "nbformat": 4,
 "nbformat_minor": 2
}
